{
 "cells": [
  {
   "cell_type": "code",
   "execution_count": 1,
   "source": [
    "import random\r\n",
    "import pandas as pd\r\n",
    "import numpy as np\r\n",
    "from tkinter import * \r\n",
    "import tkinter.ttk as ttk\r\n",
    "import tkinter.messagebox as msgbox"
   ],
   "outputs": [],
   "metadata": {}
  },
  {
   "cell_type": "code",
   "execution_count": 2,
   "source": [
    "win = Tk()\r\n",
    "\r\n",
    "win.geometry('500x300')\r\n",
    "win.title(\"꽃망울 대화카드\")\r\n",
    "win.option_add(\"*Font\",\"맑은고딕 10\")\r\n",
    "\r\n",
    "Question = ['요즘 가장 사고싶은 물건이 있다면?', '밖에 나갈때 반드시 챙기는 물건은? 혹은 내 가방 속에 들어있는 것은?'\r\n",
    "     '나의 물건 중 가장 소중한 것은?','휴식을 취하는 나만의 방법','내가 요즘 가장 즐겨보는 유튜브 채널이 있다면?',\r\n",
    "    '요즘 나의 삶에서 가장 많은 부분을 차지하는 활동은?(게임, 운동, 만남 등)','사람들이 나를 부르는 별명이 있다면?',\r\n",
    "    '내가 생각했을때 나 자신의 장점','Sns에 주로 올리는 사진이나 글은 무엇인지( ex. 친구와 함께한 사진 등등)',\r\n",
    "     '갑자기 부자가 된다면 하고싶은 것(갑자기 10억이 생긴다면)', '꿈꾸는 일탈이 있나요?', '기억에 남는 여행은 어떤 것이었나요?',\r\n",
    "     '왜 떠나시나요? 당신에게 여행은 어떤 의미인지 알려주세요.', '꿈꾸는 여행이 있나요?,', '(with, why, where, when) 당신의 여행에는 무엇이 가장 중요한가요?',\r\n",
    "     '내가 가장 사랑하는 사람은 누구인가요? 그 사람을 위해 무엇을 하고 있나요?', '텅빈하루가 주어진다면 나를 위해 무엇을 하고 싶나요?', '나는 나에게 친절한가요?',\r\n",
    "     '나를 모두 이해할 수 있는 사람이 있다면, 그가 내게 해줄 수 있는 가장 따뜻한 위로는?', '최근 누군가 보고 싶었던 순간이 있나요?',\r\n",
    "     '내가 힘들 때 찾는 것이 있나요? 그 효과는 어떤가요?( 수면, 친구, 운동, 대화, 종교, 여행 등)', '당신은 언제 외로움을 느끼나요?', '최근 스스로 가장 칭찬해줄 만한 일은 무엇인가요?',\r\n",
    "     '무엇이 당신을 힘들게 하나요?', '나에게 평온을 가져다주는 장소가 있나요?', '죽을 때 한가지 기억을 가지고 갈 수 있다면 어떤 기억을 가지고 갈 건가요?', \r\n",
    "     '내게 가장 편안하게 잘 맞는 삶은 어떤 모습인가요?', '당신은 어떻게 기억되길 원하나요?', '내가 정말로 원하는 것을 함에 있어서, 가장 나를 붙잡는 것은 무엇인가요?', \r\n",
    "     '당신은 자신이 원하는 삶의 선상에서 어디쯤 와있다고 생각하시나요?', '내가 편안하게 잠들 수 있는 상태는 어떤 마음, 어떤 상황인가요?', \r\n",
    "     '지난 몇 년간 내 삶의 우선순위는 어떻게 바뀌었나요?', '내게 주어진 시간은 얼마인가요? 그 시간을 어떻게 쓰고 싶나요?', '10년 뒤 가장 살고 싶은 삶을 살고 있다면, 당신의 하루는 어떤 모습인가요?', \r\n",
    "     '내생에 마지막 순간을 상상해 보세요. 어떤 모습 인가요? 어떤 생각을 하고 있나요?', '1년 뒤에 나는 어디에서 무엇을 하고 있을까요?', '앞으로 생겼으면 하는 일은 무엇인가요?', \r\n",
    "     '당신의 꿈에 대해서 들려주세요.', '존경하는 롤모델이 있나요? 어떤 부분을 닮고 싶나요?', '다음으로 할 당신의 멋진 모험은 무엇인가요?', '당신이 갖고싶은 것들 중 돈으로 살 수 없는 것 3가지를 말해주세요',\r\n",
    "     '이 세상에는 무엇이 더 필요할까요?', '당신에게 가장 중요한 것은 무엇인가요?', '1년 뒤 죽는다면, 남은 12개월 동안 무엇을 할 것인가요?',\r\n",
    "     '돈, 나이, 가족의 영향을 안 받는다면, 가장 하고 싶은 일은 무엇인가요?', '인생 여행에서 어떤 사람이 좋은 파트너일까요? 당신은 어떤 파트너입니까?', '지금 무엇 사이에서 고민하고 있나요?', \r\n",
    "     '내 삶에서 돈은 얼마나 중요한가요? 난 얼마를 벌고 싶나요?', '삶이 여행이라면 당신은 어떤 목적지를 향햐 가고싶나요?', '내 인생에서 가장 기억에 남는 한 끼', '가장 좋았던 계절과 그 이유는 무엇인가요?',\r\n",
    "     '당신을 즐겁게 만드는 칭찬은 무엇인가요?', '누군가에게 받은 최고의 선물은 무엇인가요?', '당신에게 소소한 행복은 어떤 것들인가요?', '당신에게 집은 어떤 의미인가요?', '당신에게 완벽한 하루는 어떤 모습인지묘사해주세요', \r\n",
    "     '당신이 하루 중 가장 좋아하는 시간은 언제인가요?', '용서받거나 용서할 수 있는 기회가 있다면 다시 만나고 싶은 사람이 있나요?', '당신의 삶에 가장 큰 영감을 주는 사람은 누구인가요?',\r\n",
    "     '누군가와의 관계가 힘들 때 당신의 선택과 그 기준은?(그를 떠난다, 포옹한다, 변화한다)', '현재 어떤 관계에서 어려움을 겪고 있나요?', '요즘 나와의 관계는 어떤가요?', \r\n",
    "     '지난 몇 년간 가족이 나에게 바랬던 점은 무엇 인가요?', '오래된 인연, 지금 곁에 있는 인연 중 어떤 쪽에 더 편안함을 느끼나요?', '내 삶의 끝에 와있다고 상상했을 때, 어떤 사람이 내 곁에 있었으면 하나요?',\r\n",
    "     '나는 타인/지인에게 어떤 사람인가요?(편안한, 다가서기 어려운, 알 수 없는, 영감을 주는 등)', '내 이야기를 가만히 들어주는 사람은 누구입니까?',\r\n",
    "     '당신의 다음 단계는 무엇입니까?', '당신은 어떤 동료입니까?', '정체를 느꼈던 적이 있나요? 당신은 어떻게 행동 하였나요?', '성공이란 것은 당신에게 어떤 모습인가요?', '나는 왜 이 일(공부)를 하나요?',\r\n",
    "     '내게 분주할 가치가 있는 일은 무엇인가요?', '나에게 일은 어떤 의미인가요?', '일을 선택할 때 중요한 순서대로 나열해 주세요(업무/회사/자율성/급여(수익)/복지/동료)']\r\n",
    "\r\n",
    "random_num = []\r\n",
    "\r\n",
    "def random_card():\r\n",
    "    a = random.sample(range(1,30),1)\r\n",
    "    if a not in random_num:\r\n",
    "        random_num.append(a)\r\n",
    "        msgbox.showinfo('카드뽑기', a + random.sample(Question,1))\r\n",
    "    else:\r\n",
    "        pass\r\n",
    "        \r\n",
    "label1 = Label(win, text = 'SK SUNNY 꽃망울', fg = 'pink')\r\n",
    "label1.pack()\r\n",
    "\r\n",
    "def create_new_file():\r\n",
    "    print('새 파일을 만듭니다.')\r\n",
    "\r\n",
    "\r\n",
    "menu = Menu(win)\r\n",
    "\r\n",
    "#file 메뉴\r\n",
    "menu_file = Menu(menu, tearoff=0)\r\n",
    "menu_file.add_command(label = 'New File', command = create_new_file)\r\n",
    "menu_file.add_command(label = 'New Window')\r\n",
    "menu_file.add_separator()\r\n",
    "menu_file.add_command(label = 'Open File...')\r\n",
    "menu_file.add_separator()\r\n",
    "menu_file.add_command(label='Save All', state='disable')\r\n",
    "menu_file.add_separator()\r\n",
    "menu_file.add_command(label= 'Exit', command= win.quit)\r\n",
    "menu.add_cascade(label = 'File', menu = menu_file)\r\n",
    "\r\n",
    "#Edit 메뉴(빈값)\r\n",
    "menu.add_cascade(label=\"Edit\")\r\n",
    "\r\n",
    "# language 매뉴\r\n",
    "menu_lang = Menu(menu, tearoff= 0)\r\n",
    "menu_lang.add_radiobutton(label = 'Korean')\r\n",
    "menu_lang.add_radiobutton(label = 'English')\r\n",
    "menu_lang.add_radiobutton(label = 'Japanese')\r\n",
    "menu_lang.add_radiobutton(label = 'Spanish')\r\n",
    "menu.add_cascade(label='Language', menu = menu_lang)\r\n",
    "\r\n",
    "btn = Button(win, text = '카드뽑기',command = random_card, padx = 10, pady = 5, fg = 'pink' ,bg= 'white')\r\n",
    "btn.pack()\r\n",
    "\r\n",
    "txt = Text(win, width =25, height = 5)\r\n",
    "txt.insert(END, \"카드를 뽑아볼까요?\")\r\n",
    "txt.pack()\r\n",
    "\r\n",
    "win.config(menu=menu)\r\n",
    "win.mainloop()"
   ],
   "outputs": [],
   "metadata": {}
  },
  {
   "cell_type": "code",
   "execution_count": null,
   "source": [
    "btn = Button(win)\r\n",
    "btn.config(text = '카드뽑기')\r\n",
    "btn.config(width=10)\r\n",
    "btn.config(command = random_card)\r\n",
    "btn.pack()"
   ],
   "outputs": [],
   "metadata": {}
  },
  {
   "cell_type": "code",
   "execution_count": null,
   "source": [
    "#이미지로 버튼 만들기\r\n",
    "photo = PhotoImage(file=\"\")\r\n",
    "btn = Button(win, image = photo)"
   ],
   "outputs": [],
   "metadata": {}
  },
  {
   "cell_type": "code",
   "execution_count": null,
   "source": [
    "photo = PhotoImage(file = \"C:/Users/user/Documents/logo.png\" )\r\n",
    "label2 = Label(win, image = photo)\r\n",
    "label2.place(x = 10, y =10, width = 50, height = 30)\r\n",
    "label2.pack()\r\n",
    "#global =  중요한 변수라고 인식하게 해서 안버림"
   ],
   "outputs": [],
   "metadata": {}
  },
  {
   "cell_type": "code",
   "execution_count": 3,
   "source": [
    "len(I)"
   ],
   "outputs": [
    {
     "output_type": "execute_result",
     "data": {
      "text/plain": [
       "74"
      ]
     },
     "metadata": {},
     "execution_count": 3
    }
   ],
   "metadata": {}
  },
  {
   "cell_type": "code",
   "execution_count": 6,
   "source": [
    "help(random.sample)"
   ],
   "outputs": [
    {
     "output_type": "stream",
     "name": "stdout",
     "text": [
      "Help on method sample in module random:\n",
      "\n",
      "sample(population, k) method of random.Random instance\n",
      "    Chooses k unique random elements from a population sequence or set.\n",
      "    \n",
      "    Returns a new list containing elements from the population while\n",
      "    leaving the original population unchanged.  The resulting list is\n",
      "    in selection order so that all sub-slices will also be valid random\n",
      "    samples.  This allows raffle winners (the sample) to be partitioned\n",
      "    into grand prize and second place winners (the subslices).\n",
      "    \n",
      "    Members of the population need not be hashable or unique.  If the\n",
      "    population contains repeats, then each occurrence is a possible\n",
      "    selection in the sample.\n",
      "    \n",
      "    To choose a sample in a range of integers, use range as an argument.\n",
      "    This is especially fast and space efficient for sampling from a\n",
      "    large population:   sample(range(10000000), 60)\n",
      "\n"
     ]
    }
   ],
   "metadata": {}
  },
  {
   "cell_type": "code",
   "execution_count": 10,
   "source": [
    "print(random.sample(list(range(1,30)),1),random.sample(Question, 1))"
   ],
   "outputs": [
    {
     "output_type": "stream",
     "name": "stdout",
     "text": [
      "[8] ['나는 왜 이 일(공부)를 하나요?']\n"
     ]
    }
   ],
   "metadata": {}
  },
  {
   "cell_type": "code",
   "execution_count": null,
   "source": [
    "def prevent_overlap():\n",
    "    random_num = []\n",
    "    a = random.randint(1,30)\n",
    "    if a not in random_num:\n",
    "        random_num.append(a)\n",
    "    else:\n",
    "        continue      "
   ],
   "outputs": [],
   "metadata": {}
  },
  {
   "cell_type": "code",
   "execution_count": 62,
   "source": [
    "random_num = []"
   ],
   "outputs": [],
   "metadata": {}
  },
  {
   "cell_type": "code",
   "execution_count": 93,
   "source": [
    "a = random.randint(1,30)\n",
    "if a not in random_num:\n",
    "    random_num.append(a)\n",
    "else:\n",
    "    pass"
   ],
   "outputs": [],
   "metadata": {}
  },
  {
   "cell_type": "code",
   "execution_count": 94,
   "source": [
    "random_num"
   ],
   "outputs": [
    {
     "output_type": "execute_result",
     "data": {
      "text/plain": [
       "[19, 6, 1]"
      ]
     },
     "metadata": {},
     "execution_count": 94
    }
   ],
   "metadata": {}
  },
  {
   "cell_type": "code",
   "execution_count": 125,
   "source": [
    "random.sample(range(1,30),1)"
   ],
   "outputs": [
    {
     "output_type": "execute_result",
     "data": {
      "text/plain": [
       "[16]"
      ]
     },
     "metadata": {},
     "execution_count": 125
    }
   ],
   "metadata": {}
  },
  {
   "cell_type": "code",
   "execution_count": 132,
   "source": [
    "str(random.sample(range(1,30),1)+random.sample(Question,1))"
   ],
   "outputs": [
    {
     "output_type": "execute_result",
     "data": {
      "text/plain": [
       "\"[1, '당신에게 가장 중요한 것은 무엇인가요?']\""
      ]
     },
     "metadata": {},
     "execution_count": 132
    }
   ],
   "metadata": {}
  },
  {
   "cell_type": "code",
   "execution_count": null,
   "source": [
    "def random_card():\n",
    "    a = random.sample(range(1,30),1)\n",
    "    if a not in random_num:\n",
    "        random_num.append(a)\n",
    "    else:\n",
    "        pass\n",
    "     msgbox.showinfo('카드뽑기', str(random.sample(range(1,30),1)+random.sample(Question,1)))"
   ],
   "outputs": [],
   "metadata": {}
  },
  {
   "cell_type": "code",
   "execution_count": null,
   "source": [
    "# 백업 ; 이건 뜸\n",
    "\n",
    "def random_card():\n",
    "     msgbox.showinfo('카드뽑기', random.sample(range(1,30),1) + random.sample(Question,1))"
   ],
   "outputs": [],
   "metadata": {}
  },
  {
   "cell_type": "code",
   "execution_count": 21,
   "source": [
    "def random_card():\n",
    "    a = random.sample(range(1,30),1)\n",
    "    if a not in random_num:\n",
    "        random_num.append(a)\n",
    "        #msgbox.showinfo('카드뽑기', a + random.sample(Question,1))\n",
    "    else:\n",
    "        pass"
   ],
   "outputs": [],
   "metadata": {}
  },
  {
   "cell_type": "code",
   "execution_count": 38,
   "source": [
    "random_card()"
   ],
   "outputs": [],
   "metadata": {}
  },
  {
   "cell_type": "code",
   "execution_count": 39,
   "source": [
    "random_num"
   ],
   "outputs": [
    {
     "output_type": "execute_result",
     "data": {
      "text/plain": [
       "[[10],\n",
       " [11],\n",
       " [15],\n",
       " [25],\n",
       " [19],\n",
       " [21],\n",
       " [6],\n",
       " [22],\n",
       " [29],\n",
       " [4],\n",
       " [28],\n",
       " [12],\n",
       " [8],\n",
       " [20],\n",
       " [17],\n",
       " [5],\n",
       " [9],\n",
       " [2],\n",
       " [3]]"
      ]
     },
     "metadata": {},
     "execution_count": 39
    }
   ],
   "metadata": {}
  },
  {
   "cell_type": "code",
   "execution_count": 40,
   "source": [
    "a"
   ],
   "outputs": [
    {
     "output_type": "execute_result",
     "data": {
      "text/plain": [
       "[25]"
      ]
     },
     "metadata": {},
     "execution_count": 40
    }
   ],
   "metadata": {}
  },
  {
   "cell_type": "code",
   "execution_count": null,
   "source": [],
   "outputs": [],
   "metadata": {}
  }
 ],
 "metadata": {
  "kernelspec": {
   "display_name": "Python 3",
   "language": "python",
   "name": "python3"
  },
  "language_info": {
   "codemirror_mode": {
    "name": "ipython",
    "version": 3
   },
   "file_extension": ".py",
   "mimetype": "text/x-python",
   "name": "python",
   "nbconvert_exporter": "python",
   "pygments_lexer": "ipython3",
   "version": "3.8.10"
  }
 },
 "nbformat": 4,
 "nbformat_minor": 5
}